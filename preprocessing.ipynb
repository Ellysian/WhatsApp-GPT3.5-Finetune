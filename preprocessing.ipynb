{
 "cells": [
  {
   "cell_type": "markdown",
   "metadata": {},
   "source": [
    "# Preprocessing WhatsApp Chat Data\n",
    "\n",
    "This notebook provides a step-by-step guide to preprocess WhatsApp chat data for further analysis or model training."
   ]
  },
  {
   "cell_type": "markdown",
   "metadata": {},
   "source": [
    "## 1. Removing LRM Characters\n",
    "\n",
    "WhatsApp includes LRM (Left-to-Right Mark) characters with some of the messages. We need to remove them to ensure consistent formatting."
   ]
  },
  {
   "cell_type": "code",
   "execution_count": null,
   "metadata": {},
   "outputs": [],
   "source": [
    "def remove_lrm(input_file, output_file):\n",
    "    with open(input_file, 'r', encoding='utf-8') as f:\n",
    "        content = f.read()\n",
    "\n",
    "    cleaned_content = content.replace('\\u200E', '')\n",
    "\n",
    "    with open(output_file, 'w', encoding='utf-8') as f:\n",
    "        f.write(cleaned_content)\n",
    "\n",
    "input_filename = '_chat.txt'\n",
    "output_filename = 'LRM_removed.txt'\n",
    "\n",
    "remove_lrm(input_filename, output_filename)\n",
    "print(f\"LRM characters removed from '{input_filename}' and saved to '{output_filename}'.\")"
   ]
  },
  {
   "cell_type": "markdown",
   "metadata": {},
   "source": [
    "## 2. Combining Multi-line Messages\n",
    "\n",
    "Some messages span multiple lines in the chat file. This section combines those messages into a single line for each message."
   ]
  },
  {
   "cell_type": "code",
   "execution_count": null,
   "metadata": {},
   "outputs": [],
   "source": [
    "def one_liner(input_file, output_file):\n",
    "    with open(input_file, 'r') as f:\n",
    "        lines = f.readlines()\n",
    "\n",
    "    output_lines = []\n",
    "    current_message = \"\"\n",
    "\n",
    "    for line in lines:\n",
    "        if line.strip():\n",
    "            if line.startswith(\"[\") and current_message:\n",
    "                output_lines.append(current_message.replace('\\n', ' '))\n",
    "                current_message = line.strip()\n",
    "            else:\n",
    "                current_message += line.strip()\n",
    "\n",
    "    if current_message:\n",
    "        output_lines.append(current_message.replace('\\n', ' '))\n",
    "\n",
    "    with open(output_file, 'w') as f:\n",
    "        f.write('\\n'.join(output_lines))\n",
    "\n",
    "\n",
    "input_file = \"LRM_removed.txt\"\n",
    "output_file = \"one_liner.txt\"\n",
    "one_liner(input_file, output_file)"
   ]
  },
  {
   "cell_type": "markdown",
   "metadata": {},
   "source": [
    "## 3. Grouping Messages into Conversations\n",
    "\n",
    "Using timestamps, we can group messages into conversations. Adjust the time threshold to change the conversation grouping logic."
   ]
  },
  {
   "cell_type": "code",
   "execution_count": null,
   "metadata": {},
   "outputs": [],
   "source": [
    "from datetime import datetime, timedelta\n",
    "\n",
    "def parse_timestamp(timestamp_str):\n",
    "    return datetime.strptime(timestamp_str, \"%y.%m.%d, %H:%M:%S\")\n",
    "\n",
    "def group_messages_into_conversations(messages, max_time_gap_seconds):\n",
    "    conversations = []\n",
    "    current_conversation = []\n",
    "\n",
    "    i = 0\n",
    "    while i < len(messages):\n",
    "        if \"[\" in messages[i]:\n",
    "            message_start = i\n",
    "            while i < len(messages) and \"]\" not in messages[i]:\n",
    "                i += 1\n",
    "            if i < len(messages):\n",
    "                current_conversation.append(\"\".join(messages[message_start:i+1]))\n",
    "        i += 1\n",
    "\n",
    "    i = 0\n",
    "    while i < len(current_conversation):\n",
    "        if \"[\" in current_conversation[i]:\n",
    "            if i > 0:\n",
    "                prev_timestamp = parse_timestamp(current_conversation[i - 1].split(\"]\")[0][1:])\n",
    "                current_timestamp = parse_timestamp(current_conversation[i].split(\"]\")[0][1:])\n",
    "                time_gap = (current_timestamp - prev_timestamp).seconds\n",
    "\n",
    "                if time_gap > max_time_gap_seconds:\n",
    "                    conversations.append(current_conversation[:i])\n",
    "                    current_conversation = current_conversation[i:]\n",
    "                    i = 0\n",
    "                    continue\n",
    "        i += 1\n",
    "\n",
    "    if current_conversation:\n",
    "        conversations.append(current_conversation)\n",
    "\n",
    "    return conversations\n",
    "\n",
    "def remove_single_message_conversations(conversations):\n",
    "    return [conversation for conversation in conversations if len(conversation) > 1]\n",
    "\n",
    "with open(\"one_liner.txt\", \"r\") as file:\n",
    "    messages = file.readlines()\n",
    "\n",
    "max_time_gap_seconds = 1800\n",
    "\n",
    "conversations = group_messages_into_conversations(messages, max_time_gap_seconds)\n",
    "filtered_conversations = remove_single_message_conversations(conversations)\n",
    "\n",
    "output_filename = \"conversations.txt\"\n",
    "\n",
    "with open(output_filename, \"w\") as output_file:\n",
    "    for i, conversation in enumerate(filtered_conversations, start=1):\n",
    "        output_file.write(f\"Conversation {i}:\\n\")\n",
    "        for message in conversation:\n",
    "            output_file.write(message.strip() + \"\\n\")\n",
    "        output_file.write(\"-\" * 40 + \"\\n\")\n",
    "\n",
    "print(f\"Filtered conversations written to '{output_filename}'.\")"
   ]
  },
  {
   "cell_type": "markdown",
   "metadata": {},
   "source": [
    "## 4. Converting to OpenAI's Format\n",
    "\n",
    "To use the data with OpenAI models, we need to convert the WhatsApp format into a format suitable for OpenAI. This section handles that conversion.\n",
    "\n",
    "Important Notes:\n",
    "\n",
    "-Change the user_name to the name of the person whose messaging is going to be simulated.\n",
    "\n",
    "-Change \"Your Name\" to your actual WhatsApp name.\n",
    "\n",
    "-You can edit the system prompt on line 27 to customize the system prompt."
   ]
  },
  {
   "cell_type": "code",
   "execution_count": null,
   "metadata": {},
   "outputs": [],
   "source": [
    "import re\n",
    "import json\n",
    "\n",
    "def convert_conversation(conversation_lines, user_name):\n",
    "    role_mapping = {\"Your Name\": \"user\", user_name: \"assistant\"}\n",
    "    user_exists = False\n",
    "    assistant_exists = False\n",
    "    messages = []\n",
    "\n",
    "    for line in conversation_lines:\n",
    "        if \"Conversation\" in line:\n",
    "            continue\n",
    "\n",
    "        match = re.match(r'\\[(\\d{2}\\.\\d{2}\\.\\d{2}, \\d{2}:\\d{2}:\\d{2})\\] (\\w+ \\w+): (.+)', line)\n",
    "        if match:\n",
    "            sender = match.group(2)\n",
    "            if sender == user_name:\n",
    "                user_exists = True\n",
    "            else:\n",
    "                assistant_exists = True\n",
    "\n",
    "            timestamp, content = match.group(1, 3)\n",
    "            role = role_mapping.get(sender, \"system\")\n",
    "            messages.append({\"role\": role, \"content\": content.strip()})\n",
    "\n",
    "    if user_exists and assistant_exists:\n",
    "        messages.insert(0, {\"role\": \"system\", \"content\": f\"You are {user_name}.\"})\n",
    "        return {\"messages\": messages}\n",
    "    else:\n",
    "        return None\n",
    "\n",
    "user_name = \"user name\"\n",
    "\n",
    "with open(\"conversations.txt\", \"r\") as file:\n",
    "    content = file.read()\n",
    "\n",
    "conversations = content.split(\"Conversation\")[1:]\n",
    "\n",
    "with open(\"conversations.jsonl\", \"w\") as output_file:\n",
    "    for conversation in conversations:\n",
    "        conversation_lines = conversation.strip().split(\"\\n\")\n",
    "        result = convert_conversation(conversation_lines, user_name)\n",
    "        if result:\n",
    "            output_file.write(json.dumps(result) + \"\\n\")\n"
   ]
  },
  {
   "cell_type": "markdown",
   "metadata": {},
   "source": [
    "## 5. Splitting Data for Training and Validation\n",
    "\n",
    "Before training a model, it's essential to split the data into training and validation sets. This ensures that we can evaluate the model's performance on unseen data."
   ]
  },
  {
   "cell_type": "code",
   "execution_count": null,
   "metadata": {},
   "outputs": [],
   "source": [
    "import json\n",
    "import random\n",
    "\n",
    "def split_jsonl(input_file, train_output_file, val_output_file, split_ratio=0.9):\n",
    "    with open(input_file, 'r') as f:\n",
    "        lines = f.readlines()\n",
    "\n",
    "    random.shuffle(lines)\n",
    "\n",
    "    split_index = int(len(lines) * split_ratio)\n",
    "    train_data = lines[:split_index]\n",
    "    val_data = lines[split_index:]\n",
    "\n",
    "    with open(train_output_file, 'w') as train_f:\n",
    "        train_f.writelines(train_data)\n",
    "\n",
    "    with open(val_output_file, 'w') as val_f:\n",
    "        val_f.writelines(val_data)\n",
    "\n",
    "input_jsonl_file = \"conversations.jsonl\"\n",
    "train_output_jsonl = \"finetune_training.jsonl\"\n",
    "val_output_jsonl = \"finetune_validation.jsonl\"\n",
    "split_ratio = 0.9 \n",
    "\n",
    "split_jsonl(input_jsonl_file, train_output_jsonl, val_output_jsonl, split_ratio)\n",
    "print(\"Split complete. Training and validation JSONL files created.\")"
   ]
  }
 ],
 "metadata": {
  "kernelspec": {
   "display_name": "Python 3.10.11 ('myenv': venv)",
   "language": "python",
   "name": "python3"
  },
  "language_info": {
   "codemirror_mode": {
    "name": "ipython",
    "version": 3
   },
   "file_extension": ".py",
   "mimetype": "text/x-python",
   "name": "python",
   "nbconvert_exporter": "python",
   "pygments_lexer": "ipython3",
   "version": "3.10.11"
  },
  "orig_nbformat": 4,
  "vscode": {
   "interpreter": {
    "hash": "ad8817b680b0273ba63b5ccae7945ddb3757bcaf45a799379a7f5c6aa17e7341"
   }
  }
 },
 "nbformat": 4,
 "nbformat_minor": 2
}
